{
 "cells": [
  {
   "cell_type": "markdown",
   "id": "1d861dc0-04fd-4adc-a627-bb387ecceaac",
   "metadata": {},
   "source": [
    "## AAP-VLBI-Fit, automatic routine to fit VLBI intensity maps."
   ]
  },
  {
   "cell_type": "markdown",
   "id": "441b4d49-8dc3-4afe-8c36-d72f9a3eaa5e",
   "metadata": {},
   "source": [
    "Please provide the files as follows: Each map (.fits/.IMAP) in its own folder, so that you have a list with the path+file for each map as well as another list with only the path where each map is located. We strongly suggest only fitting maps from the same source automatically. This is because the same detection limit may not necessarily be appropriate for each source."
   ]
  },
  {
   "cell_type": "code",
   "execution_count": null,
   "id": "134b032c-62da-4467-a9db-bcb62a6e6492",
   "metadata": {},
   "outputs": [],
   "source": [
    "import glob\n",
    "import importlib\n",
    "import pandas as pd\n",
    "from pathlib import Path\n",
    "from astropy.io import fits ; from astropy.time import Time\n",
    "import sys\n",
    "import os\n",
    "sys.path.append(os.path.abspath(os.path.join(os.getcwd(), \"..\")))\n",
    "import main.main_functions as mf\n",
    "importlib.reload(mf)\n",
    "\n",
    "folders = pd.read_csv(f'../your_path/your_folders_list.txt',header=None) ;  folders = folders[0].tolist() ; display(folders)\n",
    "files = pd.read_csv(f'../your_path/your_files_list.txt',header=None) ;  files = files[0].tolist() ; display(files)"
   ]
  },
  {
   "cell_type": "markdown",
   "id": "19cd6a9b-f46d-49b4-943a-4639f6a3fe93",
   "metadata": {},
   "source": [
    "Plase change the last line (327) in main_functions.py to \"plt.close()\", to avoid consuming too much memory in displaying the created figures. Variables that you need to change per source as denoted by an arrow and a comment."
   ]
  },
  {
   "cell_type": "code",
   "execution_count": null,
   "id": "25c9fdb8-bc22-45e3-8cac-720ff12ddc76",
   "metadata": {},
   "outputs": [],
   "source": [
    "files_path,folders_path = files,folders\n",
    "\n",
    "#Creation of the table with the summary of the fit\n",
    "Properties = pd.DataFrame(columns=['File','Date','MJD','Peak_Flux','Total_Flux','Detection_Lim','Ratio','Components','Fit_Status','Clean_Status','Map_RMS','Model_RMS','Residual_RMS','Rate_Min','Rate_Max'])\n",
    "print(f'Maps to be analized: {len(files_path)}')\n",
    "for file,folder in zip(files_path,folders_path):\n",
    "    print(f'File: {file}')\n",
    "    file_name = Path(file).stem\n",
    "    hdul_map = fits.open(file) ; hdr_map = hdul_map[0].header ; date = hdr_map['DATE-OBS'] ; print(f'Date: {date}')\n",
    "\n",
    "    #Map Properties\n",
    "    map_data,delta,increment,c_pix,f_peak,peak_id,MJD,BMaj,BMin,BPA,f_total = mf.map_properties(file)\n",
    "\n",
    "    #Determination of the Detection Limit\n",
    "    treshold = 8 #<---- Change how many times the RMS mean threshold will be taken as the detection limit everytime the source changed !!!\n",
    "    det_limit = mf.detection_limit(treshold,file,map_data)\n",
    "\n",
    "    #Fitting Map Components\n",
    "    count,term = mf.map_fitting(folder,file,f_peak,peak_id,BMaj,BMin,BPA,det_limit)\n",
    "\n",
    "    #Remotion of Bad Components\n",
    "    no_comp,clean_term = mf.map_cleaning(folder,file,count,det_limit,BMaj,BMin,term)\n",
    "\n",
    "    #RMS from results\n",
    "    map_RMS,model_RMS,res_RMS,rate_min,rate_max = mf.RMS_estimations(folder,file,term)\n",
    "\n",
    "    #Properties data export of the proccess \n",
    "    status = 'AutoFit' if term == 'Final' else 'ToCheck' ; ratio = (det_limit/f_peak)*100\n",
    "    Properties.loc[len(Properties.index)] = [file_name,date,MJD,f_peak,f_total,det_limit,ratio,no_comp,status,clean_term,map_RMS,model_RMS,res_RMS,rate_min,rate_max]\n",
    "\n",
    "    #Plotting and Component Summary Export\n",
    "    mf.ploting(folder,file,term,det_limit,increment,f_peak,BMaj,BMin,BPA)\n",
    "display(Properties)\n",
    "Properties.to_csv(f'../your_path/Fit_Summary.txt',header=True,index=None,sep='\\t') #<---- Change the saving route, if not it will overwrite in the same folder !!!"
   ]
  }
 ],
 "metadata": {
  "kernelspec": {
   "display_name": "Python 3 (ipykernel)",
   "language": "python",
   "name": "python3"
  },
  "language_info": {
   "codemirror_mode": {
    "name": "ipython",
    "version": 3
   },
   "file_extension": ".py",
   "mimetype": "text/x-python",
   "name": "python",
   "nbconvert_exporter": "python",
   "pygments_lexer": "ipython3",
   "version": "3.9.7"
  }
 },
 "nbformat": 4,
 "nbformat_minor": 5
}
